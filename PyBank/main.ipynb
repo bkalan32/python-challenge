{
 "cells": [
  {
   "cell_type": "code",
   "execution_count": 1,
   "id": "5c81a710-2729-448a-9c28-de9bf567c713",
   "metadata": {},
   "outputs": [],
   "source": [
    "# Import Dependencies\n",
    "\n",
    "import csv\n",
    "from pathlib import Path"
   ]
  },
  {
   "cell_type": "code",
   "execution_count": 2,
   "id": "f85c5b6a-c6e5-4e87-b612-c1faddf689bf",
   "metadata": {},
   "outputs": [],
   "source": [
    "# Load input and output files\n",
    "\n",
    "file_to_load = Path('Resources/budget_data.csv')\n",
    "file_to_output = Path(\"Resources/budget_analysis.txt\")"
   ]
  },
  {
   "cell_type": "code",
   "execution_count": 3,
   "id": "3ad25f3f-f114-4e38-ae91-188136811c25",
   "metadata": {},
   "outputs": [],
   "source": [
    "# Track financial parameters\n",
    "\n",
    "total_month = 0\n",
    "month_change = []\n",
    "net_change = []\n",
    "greatest_increase = ['', 0]\n",
    "greatest_decrease = ['', 999999999]\n",
    "total_net = 0\n",
    "\n"
   ]
  },
  {
   "cell_type": "code",
   "execution_count": 4,
   "id": "c356475b-9d5f-4485-89ac-4160d2badcb1",
   "metadata": {},
   "outputs": [],
   "source": [
    "# Read the csv and convert it into a list of dictionaries\n",
    "\n",
    "with open (file_to_load) as financial_data:\n",
    "    reader = csv.reader(financial_data)\n",
    "    # Read the header row\n",
    "    \n",
    "    header = next(reader)\n",
    "    # Extract first row to avoid appending to net_change_list\n",
    "    \n",
    "    first_row = next(reader)\n",
    "    total_month = total_month + 1\n",
    "    total_net = total_net + int(first_row[1])\n",
    "    prev_net = int(first_row[1])\n",
    "    \n",
    "    for row in reader:\n",
    "        # Track the total\n",
    "\n",
    "        total_month = total_month + 1\n",
    "        total_net = total_net + int(first_row[1])\n",
    "        # Track the net change\n",
    "\n",
    "        change_net = int(first_row[1]) - prev_net\n",
    "        prev_net = int(row[1])\n",
    "        net_change_list = net_change + [change_net]\n",
    "        month_change = month_change + [row[0]]\n",
    "        # Calculate the greatest increase\n",
    "\n",
    "        if change_net > greatest_increase[1]:\n",
    "            greatest_increase[0] = row[0]\n",
    "            greatest_increase[1] = change_net\n",
    "        # Calculate the Greatest decrease\n",
    "        if change_net < greatest_decrease[1]:\n",
    "            greatest_decrease[0] = row[0]\n",
    "            greatest_decrease[1] = change_net\n",
    "            \n"
   ]
  },
  {
   "cell_type": "code",
   "execution_count": 5,
   "id": "e231a2e3-05e1-4b64-8c52-af77f9578bf0",
   "metadata": {},
   "outputs": [
    {
     "data": {
      "text/plain": [
       "729654.0"
      ]
     },
     "execution_count": 5,
     "metadata": {},
     "output_type": "execute_result"
    }
   ],
   "source": [
    "# Calculate the Average Net Change\n",
    "net_monthly_average = round(sum(net_change_list)/len(net_change_list), 2)\n",
    "net_monthly_average\n"
   ]
  },
  {
   "cell_type": "code",
   "execution_count": 6,
   "id": "906f7715-9609-4a7e-9716-e13d9328c530",
   "metadata": {},
   "outputs": [],
   "source": [
    "# Export the results to text file\n",
    "with open(file_to_output, \"w\") as txt_file:\n",
    "    txt_file.write(f\"Financial Analysis\\n\")\n",
    "    txt_file.write(f\"----------------------------\\n\")\n",
    "    txt_file.write(f\"Total Months: {total_month}\\n\")\n",
    "    txt_file.write(f\"Total: ${total_net}\\n\")\n",
    "    txt_file.write(f\"Average  Change: ${net_monthly_average}\\n\")\n",
    "    txt_file.write(f\"Greatest Increase in Profits: {greatest_increase[0]} (${greatest_increase[1]})\\n\")\n",
    "    txt_file.write(f\"Greatest Decrease in Profits: {greatest_decrease[0]} (${greatest_decrease[1]})\\n\")\n"
   ]
  },
  {
   "cell_type": "code",
   "execution_count": null,
   "id": "52858e3b-cd92-464d-b15c-04fa7b10e5f6",
   "metadata": {},
   "outputs": [],
   "source": []
  }
 ],
 "metadata": {
  "kernelspec": {
   "display_name": "Python 3 (ipykernel)",
   "language": "python",
   "name": "python3"
  },
  "language_info": {
   "codemirror_mode": {
    "name": "ipython",
    "version": 3
   },
   "file_extension": ".py",
   "mimetype": "text/x-python",
   "name": "python",
   "nbconvert_exporter": "python",
   "pygments_lexer": "ipython3",
   "version": "3.9.16"
  }
 },
 "nbformat": 4,
 "nbformat_minor": 5
}
